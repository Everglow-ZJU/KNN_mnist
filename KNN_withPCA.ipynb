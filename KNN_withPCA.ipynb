{
 "cells": [
  {
   "cell_type": "code",
   "execution_count": null,
   "metadata": {},
   "outputs": [],
   "source": [
    "from torchvision import datasets, transforms\n",
    "import numpy as np\n",
    "from sklearn.metrics import accuracy_score\n",
    "from sklearn.decomposition import PCA\n",
    "import torch\n",
    "from tqdm import tqdm\n",
    "import time"
   ]
  },
  {
   "cell_type": "code",
   "execution_count": null,
   "metadata": {},
   "outputs": [],
   "source": [
    "def cal_distance(x, y):\n",
    "    #return torch.sum((x-y)**2)**0.5\n",
    "    #return torch.sum((x-y)**4)**0.5\n",
    "    #return torch.sum((x-y)**6)**0.5 #best\n",
    "    #return 1-torch.cosine_similarity(x,y,dim=0) #95.5 k=11\n",
    "    return torch.dist(x, y, 2)"
   ]
  },
  {
   "cell_type": "code",
   "execution_count": null,
   "metadata": {},
   "outputs": [],
   "source": [
    "# iteration func\n",
    "def KNN_by_iter(train_x, train_y, test_x, test_y, k):\n",
    "    pca=PCA(0.9)\n",
    "    pca.fit(train_x)\n",
    "    train_x_reduct=torch.from_numpy(pca.transform(train_x))\n",
    "    test_x_reduct=torch.from_numpy(pca.transform(test_x))\n",
    "\n",
    "    since = time.time()\n",
    "\n",
    "    # cal distance\n",
    "    res = []\n",
    "    for x in tqdm(test_x_reduct):\n",
    "        dists = []\n",
    "        for y in train_x_reduct:\n",
    "            dists.append(cal_distance(x,y).view(1))\n",
    "        \n",
    "        idxs = torch.cat(dists).argsort()[:k]\n",
    "        res.append(np.bincount(np.array([train_y[idx] for idx in idxs])).argmax())\n",
    "\n",
    "    print(res[:10])#?\n",
    "    print(\"acc\",accuracy_score(test_y, res))\n",
    "\n",
    "    time_elapsed = time.time() - since\n",
    "    print('KNN iter training complete in {:.0f}m {:.0f}s'.format(time_elapsed // 60, time_elapsed % 60))"
   ]
  },
  {
   "cell_type": "code",
   "execution_count": null,
   "metadata": {},
   "outputs": [],
   "source": [
    "if __name__ == \"__main__\":\n",
    "\n",
    "    train_dataset = datasets.MNIST(root=\"./data\", transform=transforms.ToTensor(), train=True,download=True)\n",
    "    test_dataset = datasets.MNIST(root=\"./data\", transform=transforms.ToTensor(), train=False,download=True)\n",
    "\n",
    "    # build train&test data\n",
    "    train_x = []\n",
    "    train_y = []\n",
    "    for i in range(len(train_dataset)):\n",
    "        img, target = train_dataset[i]\n",
    "        train_x.append(img.view(-1))\n",
    "        train_y.append(target)\n",
    "\n",
    "        #if i > 5000:\n",
    "            #break\n",
    "\n",
    "    # print(set(train_y))\n",
    "\n",
    "    test_x = [] \n",
    "    test_y = []\n",
    "    for i in range(len(test_dataset)):\n",
    "        img, target = test_dataset[i]\n",
    "        test_x.append(img.view(-1))\n",
    "        test_y.append(target)\n",
    "\n",
    "        #if i > 200:\n",
    "            #break\n",
    "\n",
    "    print(\"classes:\" , set(train_y))\n",
    "\n",
    "    KNN_by_iter(torch.stack(train_x), train_y, torch.stack(test_x), test_y,7) #96%"
   ]
  }
 ],
 "metadata": {
  "language_info": {
   "name": "python"
  },
  "orig_nbformat": 4
 },
 "nbformat": 4,
 "nbformat_minor": 2
}
