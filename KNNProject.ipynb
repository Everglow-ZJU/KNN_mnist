{
 "cells": [
  {
   "cell_type": "code",
   "execution_count": 1,
   "metadata": {},
   "outputs": [],
   "source": [
    "from torchvision import datasets, transforms\n",
    "import numpy as np\n",
    "from sklearn.metrics import accuracy_score\n",
    "from sklearn.decomposition import PCA\n",
    "import matplotlib.pyplot as plt\n",
    "import torch\n",
    "from tqdm import tqdm\n",
    "import time"
   ]
  },
  {
   "cell_type": "code",
   "execution_count": 2,
   "metadata": {},
   "outputs": [],
   "source": [
    "def cal_distance(x, y):\n",
    "    #return torch.sum((x-y)**2)**0.5\n",
    "    #return torch.sum((x-y)**4)**0.5\n",
    "    #return torch.sum((x-y)**6)**0.5 #best\n",
    "    #return 1-torch.cosine_similarity(x,y,dim=0) #95.5 k=11\n",
    "    # return torch.dist(x, y, 6)#best k=6\n",
    "    return torch.dist(x, y, 2)\n",
    "    "
   ]
  },
  {
   "cell_type": "code",
   "execution_count": 3,
   "metadata": {},
   "outputs": [],
   "source": [
    "\n",
    "# iteration func\n",
    "def KNN_by_iter(train_x, train_y, test_x, test_y, k):\n",
    "    pca=PCA(0.9)\n",
    "    pca.fit(train_x)\n",
    "    train_x_reduct=torch.from_numpy(pca.transform(train_x))\n",
    "    test_x_reduct=torch.from_numpy(pca.transform(test_x))\n",
    "    \n",
    "    since = time.time()\n",
    "\n",
    "    # cal distance\n",
    "    res = []\n",
    "    for x in tqdm(test_x_reduct):\n",
    "        dists = []\n",
    "        for y in train_x_reduct:\n",
    "            dists.append(cal_distance(x,y).view(1))\n",
    "        \n",
    "        idxs = torch.cat(dists).argsort()[:k]\n",
    "        res.append(np.bincount(np.array([train_y[idx] for idx in idxs])).argmax())\n",
    "\n",
    "    print(res[:10])#?\n",
    "    print(\"acc\",accuracy_score(test_y, res))\n",
    "\n",
    "    time_elapsed = time.time() - since\n",
    "    print('KNN iter training complete in {:.0f}m {:.0f}s'.format(time_elapsed // 60, time_elapsed % 60))\n",
    "        "
   ]
  },
  {
   "cell_type": "code",
   "execution_count": 6,
   "metadata": {},
   "outputs": [],
   "source": [
    "def gaussian_noise(x, severity=1):\n",
    "    \"\"\"Gaussian noise corruption to images.\n",
    "    Args:\n",
    "    x: numpy array, uncorrupted image, assumed to have uint8 pixel in [0,1].\n",
    "    severity: integer, severity of corruption.\n",
    "    Returns:\n",
    "    numpy array, image with pixels in [0,1]. Added Gaussian noise.\n",
    "    \"\"\"\n",
    "    c = [.08, .12, 0.18, 0.26, 0.38][severity - 1]\n",
    "    x=np.array(x)\n",
    "    x_clip = np.clip(x + np.random.normal(size=x.shape, scale=c), 0, 1)\n",
    "    return x_clip"
   ]
  },
  {
   "cell_type": "code",
   "execution_count": 7,
   "metadata": {},
   "outputs": [],
   "source": [
    "def Run_Knn(train_dataset,gauss_para,test_x,test_y):\n",
    "    train_x = []\n",
    "    train_y = []\n",
    "    \n",
    "    for i in range(len(train_dataset)):\n",
    "    # index = [i for i in range(len(test_dataset))] \n",
    "    # random.shuffle(index)\n",
    "    # for i in index[0:10000]:\n",
    "        img, target = train_dataset[i]\n",
    "        img=img.squeeze()\n",
    "        img=torch.from_numpy(gaussian_noise(img,gauss_para))\n",
    "        \n",
    "        # plt.imshow(img,'gray')\n",
    "        # plt.title(target)\n",
    "        # plt.show()\n",
    "        # break\n",
    "        \n",
    "        train_x.append(img.view(-1))\n",
    "        train_y.append(target)\n",
    "        if i > 10000:\n",
    "            break\n",
    "        \n",
    "    KNN_by_iter(torch.stack(train_x), train_y, torch.stack(test_x), test_y, 4)"
   ]
  },
  {
   "cell_type": "code",
   "execution_count": 8,
   "metadata": {},
   "outputs": [
    {
     "name": "stderr",
     "output_type": "stream",
     "text": [
      "100%|██████████| 10000/10000 [36:31<00:00,  4.56it/s]\n"
     ]
    },
    {
     "name": "stdout",
     "output_type": "stream",
     "text": [
      "[7, 2, 1, 0, 4, 1, 4, 9, 5, 9]\n",
      "acc 0.9438\n",
      "KNN iter training complete in 36m 32s\n"
     ]
    },
    {
     "name": "stderr",
     "output_type": "stream",
     "text": [
      "100%|██████████| 10000/10000 [37:23<00:00,  4.46it/s]\n"
     ]
    },
    {
     "name": "stdout",
     "output_type": "stream",
     "text": [
      "[7, 2, 1, 0, 4, 1, 4, 9, 5, 9]\n",
      "acc 0.9378\n",
      "KNN iter training complete in 37m 23s\n"
     ]
    },
    {
     "name": "stderr",
     "output_type": "stream",
     "text": [
      "100%|██████████| 10000/10000 [38:32<00:00,  4.33it/s]\n"
     ]
    },
    {
     "name": "stdout",
     "output_type": "stream",
     "text": [
      "[7, 2, 1, 0, 4, 1, 4, 9, 5, 9]\n",
      "acc 0.9307\n",
      "KNN iter training complete in 38m 32s\n"
     ]
    },
    {
     "name": "stderr",
     "output_type": "stream",
     "text": [
      "100%|██████████| 10000/10000 [39:28<00:00,  4.22it/s]"
     ]
    },
    {
     "name": "stdout",
     "output_type": "stream",
     "text": [
      "[7, 2, 1, 0, 4, 1, 4, 9, 5, 9]\n",
      "acc 0.9146\n",
      "KNN iter training complete in 39m 29s\n"
     ]
    },
    {
     "name": "stderr",
     "output_type": "stream",
     "text": [
      "\n"
     ]
    }
   ],
   "source": [
    "if __name__ == \"__main__\":\n",
    "\n",
    "    train_dataset = datasets.MNIST(root=\"./data\", transform=transforms.ToTensor(), train=True,download=True)\n",
    "    test_dataset = datasets.MNIST(root=\"./data\", transform=transforms.ToTensor(), train=False,download=True)\n",
    "\n",
    "    test_x = [] \n",
    "    test_y = []\n",
    "    for i in range(len(test_dataset)):\n",
    "        img, target = test_dataset[i]\n",
    "        img=img.squeeze()      \n",
    "        test_x.append(img.view(-1))\n",
    "        test_y.append(target)\n",
    "\n",
    "\n",
    "    # print(\"classes:\" , set(train_y))\n",
    "    for gauss_para in range(2,6):\n",
    "        Run_Knn(train_dataset,gauss_para,test_x,test_y)\n",
    "    \n"
   ]
  }
 ],
 "metadata": {
  "interpreter": {
   "hash": "415b5b3c7145f7dc7d34c11c6b43391cea8f5736b1e95d3846b1cdeae77fc363"
  },
  "kernelspec": {
   "display_name": "Python 3.9.7 64-bit ('base': conda)",
   "language": "python",
   "name": "python3"
  },
  "language_info": {
   "codemirror_mode": {
    "name": "ipython",
    "version": 3
   },
   "file_extension": ".py",
   "mimetype": "text/x-python",
   "name": "python",
   "nbconvert_exporter": "python",
   "pygments_lexer": "ipython3",
   "version": "3.9.7"
  },
  "orig_nbformat": 4
 },
 "nbformat": 4,
 "nbformat_minor": 2
}
