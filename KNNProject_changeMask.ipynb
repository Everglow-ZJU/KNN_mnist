{
 "cells": [
  {
   "cell_type": "code",
   "execution_count": null,
   "metadata": {},
   "outputs": [],
   "source": [
    "from torchvision import datasets, transforms\n",
    "import numpy as np\n",
    "from sklearn.metrics import accuracy_score\n",
    "from sklearn.decomposition import PCA\n",
    "import matplotlib.pyplot as plt\n",
    "import torch\n",
    "from tqdm import tqdm\n",
    "import time"
   ]
  },
  {
   "cell_type": "code",
   "execution_count": null,
   "metadata": {},
   "outputs": [],
   "source": [
    "def cal_distance(x, y):\n",
    "    #return torch.sum((x-y)**2)**0.5\n",
    "    #return torch.sum((x-y)**4)**0.5\n",
    "    #return torch.sum((x-y)**6)**0.5 #best\n",
    "    #return 1-torch.cosine_similarity(x,y,dim=0) #95.5 k=11\n",
    "    # return torch.dist(x, y, 6)#best k=6\n",
    "    return torch.dist(x, y, 2)\n",
    "    "
   ]
  },
  {
   "cell_type": "code",
   "execution_count": null,
   "metadata": {},
   "outputs": [],
   "source": [
    "\n",
    "# iteration func\n",
    "def KNN_by_iter(train_x, train_y, test_x, test_y, k,dimension):\n",
    "    pca=PCA(dimension)\n",
    "    pca.fit(train_x)\n",
    "    train_x_reduct=torch.from_numpy(pca.transform(train_x))\n",
    "    test_x_reduct=torch.from_numpy(pca.transform(test_x))\n",
    "    \n",
    "    since = time.time()\n",
    "\n",
    "    # cal distance\n",
    "    res = []\n",
    "    for x in tqdm(test_x_reduct):\n",
    "        dists = []\n",
    "        for y in train_x_reduct:\n",
    "            dists.append(cal_distance(x,y).view(1))\n",
    "        \n",
    "        idxs = torch.cat(dists).argsort()[:k]\n",
    "        res.append(np.bincount(np.array([train_y[idx] for idx in idxs])).argmax())\n",
    "\n",
    "    print(\"acc\",accuracy_score(test_y, res))\n",
    "\n",
    "    time_elapsed = time.time() - since\n",
    "    print('KNN iter training complete in {:.0f}m {:.0f}s'.format(time_elapsed // 60, time_elapsed % 60))\n",
    "        "
   ]
  },
  {
   "cell_type": "code",
   "execution_count": null,
   "metadata": {},
   "outputs": [],
   "source": [
    "def Run_Knn(train_dataset,test_x,test_y,mask_size):\n",
    "    train_x = []\n",
    "    train_y = []\n",
    "    mask_start_x=10\n",
    "    mask_start_y=10\n",
    "    for i in range(len(train_dataset)):\n",
    "        img, target = train_dataset[i]\n",
    "        img=img.squeeze()\n",
    "        img[mask_start_x:mask_start_x+mask_size,mask_start_y:mask_start_y+mask_size]=torch.zeros((mask_size,mask_size))\n",
    "        train_x.append(img.view(-1))\n",
    "        train_y.append(target)\n",
    "        if i > 1000:\n",
    "            break\n",
    "        \n",
    "    KNN_by_iter(torch.stack(train_x), train_y, torch.stack(test_x), test_y, 4,0.9)"
   ]
  },
  {
   "cell_type": "code",
   "execution_count": null,
   "metadata": {},
   "outputs": [],
   "source": [
    "if __name__ == \"__main__\":\n",
    "\n",
    "    train_dataset = datasets.MNIST(root=\"./data\", transform=transforms.ToTensor(), train=True,download=True)\n",
    "    test_dataset = datasets.MNIST(root=\"./data\", transform=transforms.ToTensor(), train=False,download=True)\n",
    "\n",
    "    test_x = [] \n",
    "    test_y = []\n",
    "    for i in range(len(test_dataset)):\n",
    "        img, target = test_dataset[i]\n",
    "        img=img.squeeze()      \n",
    "        test_x.append(img.view(-1))\n",
    "        test_y.append(target)\n",
    "\n",
    "\n",
    "    for mask_size in [1,2,3,4,5,6,7,8]:\n",
    "        Run_Knn(train_dataset,test_x,test_y,mask_size)\n",
    "\n",
    "    \n",
    "    \n",
    "    \n"
   ]
  }
 ],
 "metadata": {
  "interpreter": {
   "hash": "415b5b3c7145f7dc7d34c11c6b43391cea8f5736b1e95d3846b1cdeae77fc363"
  },
  "kernelspec": {
   "display_name": "Python 3.9.7 64-bit ('base': conda)",
   "language": "python",
   "name": "python3"
  },
  "language_info": {
   "codemirror_mode": {
    "name": "ipython",
    "version": 3
   },
   "file_extension": ".py",
   "mimetype": "text/x-python",
   "name": "python",
   "nbconvert_exporter": "python",
   "pygments_lexer": "ipython3",
   "version": "3.9.7"
  },
  "orig_nbformat": 4
 },
 "nbformat": 4,
 "nbformat_minor": 2
}
